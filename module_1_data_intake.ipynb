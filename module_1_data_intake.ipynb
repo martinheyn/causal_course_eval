{
 "cells": [
  {
   "cell_type": "markdown",
   "metadata": {},
   "source": [
    "# This module reads the raw data and converts it into a panda dataframe"
   ]
  },
  {
   "cell_type": "code",
   "execution_count": 4,
   "metadata": {},
   "outputs": [],
   "source": [
    "# Parameters\n",
    "\n",
    "loc_data = './data/data_in.xlsx'\n",
    "loc_save_data = './data/data_r_in.rdata'"
   ]
  },
  {
   "cell_type": "code",
   "execution_count": 5,
   "metadata": {},
   "outputs": [
    {
     "name": "stdout",
     "output_type": "stream",
     "text": [
      "<bound method NDFrame.head of                                                 Course  Survey_returned  year  \\\n",
      "0              CTE031 Teknikhistoria 2021/2022 LP3-LP3               13  2021   \n",
      "1              CTE031 Teknikhistoria 2022/2023 LP3-LP3               17  2022   \n",
      "2              CTE031 Teknikhistoria 2023/2024 LP3-LP3                9  2023   \n",
      "3    DAT017 Maskinorienterad programmering 2021/202...               34  2021   \n",
      "4    DAT017 Maskinorienterad programmering 2022/202...               55  2022   \n",
      "..                                                 ...              ...   ...   \n",
      "148         TMV200 Diskret matematik 2022/2023 LP1-LP1               68  2022   \n",
      "149         TMV200 Diskret matematik 2023/2024 LP1-LP1               70  2023   \n",
      "150            TMV206 Linjär algebra 2021/2022 LP3-LP3               34  2021   \n",
      "151            TMV206 Linjär algebra 2022/2023 LP3-LP3               47  2022   \n",
      "152            TMV206 Linjär algebra 2023/2024 LP3-LP3               45  2023   \n",
      "\n",
      "     study_period  CS  Survey_population  Percentage  Swedish  Prerequisites  \\\n",
      "0               3   0                 69      0.1884        1           4.69   \n",
      "1               3   0                 53      0.3208        1           4.88   \n",
      "2               3   0                 66      0.1364        1           4.89   \n",
      "3               3   1                147      0.2313        1           3.76   \n",
      "4               3   1                133      0.4135        1           3.24   \n",
      "..            ...  ..                ...         ...      ...            ...   \n",
      "148             1   0                132      0.5152        1           4.26   \n",
      "149             1   0                154      0.4545        1           4.31   \n",
      "150             3   0                122      0.2787        1           3.85   \n",
      "151             3   0                116      0.4052        1           4.02   \n",
      "152             3   0                128      0.3516        1           4.20   \n",
      "\n",
      "     LearningOutcome  CourseStruc  Teaching  Literature  Assessment  Admin  \\\n",
      "0               4.31         4.31      4.08        4.33        4.08   4.31   \n",
      "1               4.71         4.76      4.82        4.35        4.35   4.88   \n",
      "2               4.22         4.33      4.22        3.89        4.00   4.11   \n",
      "3               3.63         3.62      3.38        3.85        4.15   4.18   \n",
      "4               3.31         2.69      1.85        2.24        3.36   3.57   \n",
      "..               ...          ...       ...         ...         ...    ...   \n",
      "148             4.31         4.10      4.18        4.03        4.16   4.47   \n",
      "149             4.07         4.40      4.30        4.21        3.87   4.40   \n",
      "150             3.84         3.65      3.41        3.70        3.03   4.00   \n",
      "151             4.09         3.85      4.20        4.09        3.91   4.33   \n",
      "152             3.81         3.82      3.67        3.98        3.86   4.20   \n",
      "\n",
      "     Workload  Equality  Overall  \n",
      "0        3.15      4.85     4.23  \n",
      "1        3.12      4.76     4.41  \n",
      "2        3.33      4.56     4.44  \n",
      "3        3.47      4.47     3.35  \n",
      "4        3.65      4.09     1.96  \n",
      "..        ...       ...      ...  \n",
      "148      3.32      4.69     4.60  \n",
      "149      3.19      4.52     4.03  \n",
      "150      3.79      4.52     3.18  \n",
      "151      3.26      4.64     4.04  \n",
      "152      3.51      4.60     3.73  \n",
      "\n",
      "[153 rows x 18 columns]>\n"
     ]
    }
   ],
   "source": [
    "import pandas as pd\n",
    "\n",
    "# Read the Excel file\n",
    "df = pd.read_excel(loc_data)\n",
    "\n",
    "# Print the DataFrame\n",
    "print(df.head)\n",
    "\n"
   ]
  },
  {
   "cell_type": "code",
   "execution_count": 6,
   "metadata": {},
   "outputs": [
    {
     "name": "stderr",
     "output_type": "stream",
     "text": [
      "c:\\Users\\marti\\.conda\\envs\\mercury\\lib\\site-packages\\rpy2\\robjects\\pandas2ri.py:67: UserWarning: Error while trying to convert the column \"Course\". Fall back to string conversion. The error is: Conversion 'py2ri' not defined for objects of type '<class 'pandas.core.series.Series'>'\n",
      "  (name, str(e)))\n",
      "c:\\Users\\marti\\.conda\\envs\\mercury\\lib\\site-packages\\rpy2\\robjects\\pandas2ri.py:67: UserWarning: Error while trying to convert the column \"Survey_returned\". Fall back to string conversion. The error is: Conversion 'py2ri' not defined for objects of type '<class 'pandas.core.series.Series'>'\n",
      "  (name, str(e)))\n",
      "c:\\Users\\marti\\.conda\\envs\\mercury\\lib\\site-packages\\rpy2\\robjects\\pandas2ri.py:67: UserWarning: Error while trying to convert the column \"year\". Fall back to string conversion. The error is: Conversion 'py2ri' not defined for objects of type '<class 'pandas.core.series.Series'>'\n",
      "  (name, str(e)))\n",
      "c:\\Users\\marti\\.conda\\envs\\mercury\\lib\\site-packages\\rpy2\\robjects\\pandas2ri.py:67: UserWarning: Error while trying to convert the column \"study_period\". Fall back to string conversion. The error is: Conversion 'py2ri' not defined for objects of type '<class 'pandas.core.series.Series'>'\n",
      "  (name, str(e)))\n",
      "c:\\Users\\marti\\.conda\\envs\\mercury\\lib\\site-packages\\rpy2\\robjects\\pandas2ri.py:67: UserWarning: Error while trying to convert the column \"CS\". Fall back to string conversion. The error is: Conversion 'py2ri' not defined for objects of type '<class 'pandas.core.series.Series'>'\n",
      "  (name, str(e)))\n",
      "c:\\Users\\marti\\.conda\\envs\\mercury\\lib\\site-packages\\rpy2\\robjects\\pandas2ri.py:67: UserWarning: Error while trying to convert the column \"Survey_population\". Fall back to string conversion. The error is: Conversion 'py2ri' not defined for objects of type '<class 'pandas.core.series.Series'>'\n",
      "  (name, str(e)))\n",
      "c:\\Users\\marti\\.conda\\envs\\mercury\\lib\\site-packages\\rpy2\\robjects\\pandas2ri.py:67: UserWarning: Error while trying to convert the column \"Percentage\". Fall back to string conversion. The error is: Conversion 'py2ri' not defined for objects of type '<class 'pandas.core.series.Series'>'\n",
      "  (name, str(e)))\n",
      "c:\\Users\\marti\\.conda\\envs\\mercury\\lib\\site-packages\\rpy2\\robjects\\pandas2ri.py:67: UserWarning: Error while trying to convert the column \"Swedish\". Fall back to string conversion. The error is: Conversion 'py2ri' not defined for objects of type '<class 'pandas.core.series.Series'>'\n",
      "  (name, str(e)))\n",
      "c:\\Users\\marti\\.conda\\envs\\mercury\\lib\\site-packages\\rpy2\\robjects\\pandas2ri.py:67: UserWarning: Error while trying to convert the column \"Prerequisites\". Fall back to string conversion. The error is: Conversion 'py2ri' not defined for objects of type '<class 'pandas.core.series.Series'>'\n",
      "  (name, str(e)))\n",
      "c:\\Users\\marti\\.conda\\envs\\mercury\\lib\\site-packages\\rpy2\\robjects\\pandas2ri.py:67: UserWarning: Error while trying to convert the column \"LearningOutcome\". Fall back to string conversion. The error is: Conversion 'py2ri' not defined for objects of type '<class 'pandas.core.series.Series'>'\n",
      "  (name, str(e)))\n",
      "c:\\Users\\marti\\.conda\\envs\\mercury\\lib\\site-packages\\rpy2\\robjects\\pandas2ri.py:67: UserWarning: Error while trying to convert the column \"CourseStruc\". Fall back to string conversion. The error is: Conversion 'py2ri' not defined for objects of type '<class 'pandas.core.series.Series'>'\n",
      "  (name, str(e)))\n",
      "c:\\Users\\marti\\.conda\\envs\\mercury\\lib\\site-packages\\rpy2\\robjects\\pandas2ri.py:67: UserWarning: Error while trying to convert the column \"Teaching\". Fall back to string conversion. The error is: Conversion 'py2ri' not defined for objects of type '<class 'pandas.core.series.Series'>'\n",
      "  (name, str(e)))\n",
      "c:\\Users\\marti\\.conda\\envs\\mercury\\lib\\site-packages\\rpy2\\robjects\\pandas2ri.py:67: UserWarning: Error while trying to convert the column \"Literature\". Fall back to string conversion. The error is: Conversion 'py2ri' not defined for objects of type '<class 'pandas.core.series.Series'>'\n",
      "  (name, str(e)))\n",
      "c:\\Users\\marti\\.conda\\envs\\mercury\\lib\\site-packages\\rpy2\\robjects\\pandas2ri.py:67: UserWarning: Error while trying to convert the column \"Assessment\". Fall back to string conversion. The error is: Conversion 'py2ri' not defined for objects of type '<class 'pandas.core.series.Series'>'\n",
      "  (name, str(e)))\n",
      "c:\\Users\\marti\\.conda\\envs\\mercury\\lib\\site-packages\\rpy2\\robjects\\pandas2ri.py:67: UserWarning: Error while trying to convert the column \"Admin\". Fall back to string conversion. The error is: Conversion 'py2ri' not defined for objects of type '<class 'pandas.core.series.Series'>'\n",
      "  (name, str(e)))\n",
      "c:\\Users\\marti\\.conda\\envs\\mercury\\lib\\site-packages\\rpy2\\robjects\\pandas2ri.py:67: UserWarning: Error while trying to convert the column \"Workload\". Fall back to string conversion. The error is: Conversion 'py2ri' not defined for objects of type '<class 'pandas.core.series.Series'>'\n",
      "  (name, str(e)))\n",
      "c:\\Users\\marti\\.conda\\envs\\mercury\\lib\\site-packages\\rpy2\\robjects\\pandas2ri.py:67: UserWarning: Error while trying to convert the column \"Equality\". Fall back to string conversion. The error is: Conversion 'py2ri' not defined for objects of type '<class 'pandas.core.series.Series'>'\n",
      "  (name, str(e)))\n",
      "c:\\Users\\marti\\.conda\\envs\\mercury\\lib\\site-packages\\rpy2\\robjects\\pandas2ri.py:67: UserWarning: Error while trying to convert the column \"Overall\". Fall back to string conversion. The error is: Conversion 'py2ri' not defined for objects of type '<class 'pandas.core.series.Series'>'\n",
      "  (name, str(e)))\n"
     ]
    },
    {
     "data": {
      "text/plain": [
       "rpy2.rinterface.NULL"
      ]
     },
     "execution_count": 6,
     "metadata": {},
     "output_type": "execute_result"
    }
   ],
   "source": [
    "# Export as R-data frame for processing\n",
    "\n",
    "import rpy2.robjects as robjects\n",
    "from rpy2.robjects import pandas2ri\n",
    "\n",
    "data_in = pandas2ri.py2ri(df)\n",
    "robjects.globalenv[\"data_in\"] = data_in\n",
    "\n",
    "robjects.r(\"save(data_in, file='./data/data_r_in.RData')\")"
   ]
  }
 ],
 "metadata": {
  "kernelspec": {
   "display_name": "base",
   "language": "python",
   "name": "python3"
  },
  "language_info": {
   "codemirror_mode": {
    "name": "ipython",
    "version": 3
   },
   "file_extension": ".py",
   "mimetype": "text/x-python",
   "name": "python",
   "nbconvert_exporter": "python",
   "pygments_lexer": "ipython3",
   "version": "3.7.16"
  }
 },
 "nbformat": 4,
 "nbformat_minor": 2
}
